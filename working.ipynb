{
 "cells": [
  {
   "cell_type": "code",
   "execution_count": 1,
   "metadata": {},
   "outputs": [
    {
     "name": "stdout",
     "output_type": "stream",
     "text": [
      "[\"orange\", \"blue\", \"yellow\", \"purple\", \"purple\", \"yellow\", \"orange\", \"orange\", \"red\", \"green\", \"purple\", \"green\", \"yellow\", \"green\", \"green\", \"blue\", \"red\", \"red\", \"red\", \"blue\"][\"orange\", \"blue\", \"yellow\", \"purple\", \"purple\", \"yellow\", \"orange\", \"orange\", \"red\", \"green\", \"purple\", \"green\", \"yellow\", \"green\", \"green\", \"blue\"][\"orange\", \"blue\", \"yellow\", \"purple\", \"purple\", \"yellow\", \"orange\", \"orange\", \"red\", \"green\", \"purple\", \"green\"][\"orange\", \"blue\", \"yellow\", \"purple\", \"purple\", \"yellow\", \"orange\", \"orange\"][\"orange\", \"blue\", \"yellow\", \"purple\"][][]"
     ]
    },
    {
     "data": {
      "text/plain": [
       "#<Game:0x000002284615aae8 @flasks=[#<Flask:0x000002284615a700 @liquids=[\"orange\", \"yellow\", \"purple\", \"blue\"], @max_liquids=4>, #<Flask:0x0000022846159698 @liquids=[\"red\", \"red\", \"red\", \"blue\"], @max_liquids=4>, #<Flask:0x0000022846158810 @liquids=[\"yellow\", \"green\", \"green\", \"blue\"], @max_liquids=4>, #<Flask:0x0000022846156e48 @liquids=[\"red\", \"green\", \"purple\", \"green\"], @max_liquids=4>, #<Flask:0x0000022846155b10 @liquids=[\"purple\", \"yellow\", \"orange\", \"orange\"], @max_liquids=4>, #<Flask:0x0000022846154788 @liquids=[\"orange\", \"blue\", \"yellow\", \"purple\"], @max_liquids=4>, #<Flask:0x00000228461533d8 @liquids=[], @max_liquids=4>], @possible_colors=[\"red\", \"blue\", \"orange\", \"green\", \"yellow\", \"purple\"]>"
      ]
     },
     "execution_count": 1,
     "metadata": {},
     "output_type": "execute_result"
    }
   ],
   "source": [
    "require_relative 'flasks.rb'\n",
    "require_relative 'liquids.rb'\n",
    "require_relative 'game.rb'\n",
    "\n",
    "a_game = Game.new\n",
    "a_game.create_game\n",
    "a_game\n"
   ]
  },
  {
   "cell_type": "code",
   "execution_count": 18,
   "metadata": {},
   "outputs": [
    {
     "data": {
      "text/plain": [
       "[\"red\", \"orange\", \"purple\", \"orange\", \"yellow\", \"purple\", \"yellow\", \"orange\", \"green\", \"red\", \"orange\", \"blue\", \"red\", \"red\", \"green\", \"yellow\"]"
      ]
     },
     "execution_count": 18,
     "metadata": {},
     "output_type": "execute_result"
    }
   ],
   "source": [
    "colors = ['red', 'blue','green', 'yellow', 'purple', 'orange']\n",
    "colors = (colors*4).shuffle \n",
    "colors.pop(4)\n",
    "colors.pop(4)\n",
    "colors"
   ]
  },
  {
   "cell_type": "code",
   "execution_count": 24,
   "metadata": {},
   "outputs": [
    {
     "data": {
      "text/plain": [
       "[2, 1]"
      ]
     },
     "execution_count": 24,
     "metadata": {},
     "output_type": "execute_result"
    }
   ],
   "source": [
    "[].concat([2,1])"
   ]
  },
  {
   "cell_type": "code",
   "execution_count": null,
   "metadata": {},
   "outputs": [],
   "source": []
  }
 ],
 "metadata": {
  "kernelspec": {
   "display_name": "Ruby 3.2.2",
   "language": "ruby",
   "name": "ruby"
  },
  "language_info": {
   "file_extension": ".rb",
   "mimetype": "application/x-ruby",
   "name": "ruby",
   "version": "3.2.2"
  }
 },
 "nbformat": 4,
 "nbformat_minor": 2
}
