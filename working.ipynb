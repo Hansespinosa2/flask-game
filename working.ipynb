{
 "cells": [
  {
   "cell_type": "code",
   "execution_count": 1,
   "metadata": {},
   "outputs": [
    {
     "data": {
      "text/plain": [
       "#<Game:0x000001bdb13eaad8 @flasks=[#<Flask:0x000001bdb13ea5d8 @liquids=[\"gray\", \"blue\", \"blue\", \"orange\"], @max_liquids=4>, #<Flask:0x000001bdb13ea498 @liquids=[\"blue\", \"orange\", \"pink\", \"gray\"], @max_liquids=4>, #<Flask:0x000001bdb13ea420 @liquids=[\"pink\", \"gray\", \"pink\", \"blue\"], @max_liquids=4>, #<Flask:0x000001bdb13ea3a8 @liquids=[\"orange\", \"gray\", \"pink\", \"orange\"], @max_liquids=4>, #<Flask:0x000001bdb13ea330 @liquids=[], @max_liquids=4>], @possible_colors=[\"blue\", \"gray\", \"pink\", \"orange\"]>"
      ]
     },
     "execution_count": 1,
     "metadata": {},
     "output_type": "execute_result"
    }
   ],
   "source": [
    "require_relative 'flasks.rb'\n",
    "require_relative 'liquids.rb'\n",
    "require_relative 'game.rb'\n",
    "\n",
    "a_game = Game.new\n",
    "a_game.create_game\n",
    "a_game\n"
   ]
  },
  {
   "cell_type": "code",
   "execution_count": 18,
   "metadata": {},
   "outputs": [
    {
     "data": {
      "text/plain": [
       "[\"red\", \"orange\", \"purple\", \"orange\", \"yellow\", \"purple\", \"yellow\", \"orange\", \"green\", \"red\", \"orange\", \"blue\", \"red\", \"red\", \"green\", \"yellow\"]"
      ]
     },
     "execution_count": 18,
     "metadata": {},
     "output_type": "execute_result"
    }
   ],
   "source": [
    "colors = ['red', 'blue','green', 'yellow', 'purple', 'orange']\n",
    "colors = (colors*4).shuffle \n",
    "colors.pop(4)\n",
    "colors.pop(4)\n",
    "colors"
   ]
  },
  {
   "cell_type": "code",
   "execution_count": 24,
   "metadata": {},
   "outputs": [
    {
     "data": {
      "text/plain": [
       "[2, 1]"
      ]
     },
     "execution_count": 24,
     "metadata": {},
     "output_type": "execute_result"
    }
   ],
   "source": [
    "[].concat([2,1])"
   ]
  },
  {
   "cell_type": "code",
   "execution_count": null,
   "metadata": {},
   "outputs": [],
   "source": []
  }
 ],
 "metadata": {
  "kernelspec": {
   "display_name": "Ruby 3.2.2",
   "language": "ruby",
   "name": "ruby"
  },
  "language_info": {
   "file_extension": ".rb",
   "mimetype": "application/x-ruby",
   "name": "ruby",
   "version": "3.2.2"
  }
 },
 "nbformat": 4,
 "nbformat_minor": 2
}
