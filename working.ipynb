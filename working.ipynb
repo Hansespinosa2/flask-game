{
 "cells": [
  {
   "cell_type": "code",
   "execution_count": 1,
   "metadata": {},
   "outputs": [
    {
     "name": "stdout",
     "output_type": "stream",
     "text": [
      "\n",
      "[\"yellow\", \"pink\", \"yellow\", \"yellow\"]\n",
      "[\"pink\", \"yellow\", \"pink\", \"brown\"]\n",
      "[\"brown\", \"pink\", \"brown\", \"brown\"]\n",
      "[]\n"
     ]
    },
    {
     "data": {
      "text/plain": [
       "[#<Flask:0x000002ba94068cf8 @liquids=[\"yellow\", \"pink\", \"yellow\", \"yellow\"], @max_liquids=4>, #<Flask:0x000002ba94068b68 @liquids=[\"pink\", \"yellow\", \"pink\", \"brown\"], @max_liquids=4>, #<Flask:0x000002ba94068a78 @liquids=[\"brown\", \"pink\", \"brown\", \"brown\"], @max_liquids=4>, #<Flask:0x000002ba94068988 @liquids=[], @max_liquids=4>]"
      ]
     },
     "execution_count": 1,
     "metadata": {},
     "output_type": "execute_result"
    }
   ],
   "source": [
    "require_relative 'flasks.rb'\n",
    "require_relative 'game.rb'\n",
    "\n",
    "a_game = Game.new\n",
    "a_game.create_game(3,3)\n",
    "a_game.display_game\n",
    "\n"
   ]
  },
  {
   "cell_type": "code",
   "execution_count": 2,
   "metadata": {},
   "outputs": [
    {
     "name": "stdout",
     "output_type": "stream",
     "text": [
      "\n",
      "[\"yellow\", \"pink\", \"yellow\", \"yellow\"]\n",
      "[\"pink\", \"yellow\", \"pink\"]\n",
      "[\"brown\", \"pink\", \"brown\", \"brown\"]\n",
      "[\"brown\"]\n",
      "\n",
      "[\"yellow\", \"pink\", \"yellow\", \"yellow\"]\n",
      "[\"pink\", \"yellow\", \"pink\"]\n",
      "[\"brown\", \"pink\"]\n",
      "[\"brown\", \"brown\", \"brown\"]\n"
     ]
    },
    {
     "data": {
      "text/plain": [
       "[#<Flask:0x000002ba94068cf8 @liquids=[\"yellow\", \"pink\", \"yellow\", \"yellow\"], @max_liquids=4>, #<Flask:0x000002ba94068b68 @liquids=[\"pink\", \"yellow\", \"pink\"], @max_liquids=4>, #<Flask:0x000002ba94068a78 @liquids=[\"brown\", \"pink\"], @max_liquids=4>, #<Flask:0x000002ba94068988 @liquids=[\"brown\", \"brown\", \"brown\"], @max_liquids=4>]"
      ]
     },
     "execution_count": 2,
     "metadata": {},
     "output_type": "execute_result"
    }
   ],
   "source": [
    "a_game.attempt_pour(a_game.flasks[1],a_game.flasks[3])\n",
    "a_game.display_game\n",
    "a_game.attempt_pour(a_game.flasks[2],a_game.flasks[3])\n",
    "a_game.display_game\n"
   ]
  },
  {
   "cell_type": "code",
   "execution_count": 2,
   "metadata": {},
   "outputs": [
    {
     "data": {
      "text/plain": [
       "[\"purple\", \"yellow\", \"red\", \"purple\", \"orange\", \"orange\", \"yellow\", \"orange\", \"blue\", \"green\", \"orange\", \"purple\", \"yellow\", \"blue\", \"blue\", \"purple\"]"
      ]
     },
     "execution_count": 2,
     "metadata": {},
     "output_type": "execute_result"
    }
   ],
   "source": [
    "colors = ['red', 'blue','green', 'yellow', 'purple', 'orange']\n",
    "colors = (colors*4).shuffle \n",
    "colors.pop(4)\n",
    "colors.pop(4)\n",
    "colors"
   ]
  },
  {
   "cell_type": "code",
   "execution_count": 3,
   "metadata": {},
   "outputs": [
    {
     "name": "stdout",
     "output_type": "stream",
     "text": [
      "[\"yellow\", \"pink\", \"yellow\", \"yellow\"]\n"
     ]
    },
    {
     "data": {
      "text/plain": [
       "[\"yellow\", \"pink\", \"yellow\", \"yellow\"]"
      ]
     },
     "execution_count": 3,
     "metadata": {},
     "output_type": "execute_result"
    }
   ],
   "source": [
    "a_game.flasks[0].display_flask"
   ]
  },
  {
   "cell_type": "code",
   "execution_count": 4,
   "metadata": {},
   "outputs": [
    {
     "data": {
      "text/plain": [
       "[\"yellow\", \"pink\"]"
      ]
     },
     "execution_count": 4,
     "metadata": {},
     "output_type": "execute_result"
    }
   ],
   "source": [
    "[\"yellow\", \"pink\", \"yellow\", \"yellow\"].uniq"
   ]
  },
  {
   "cell_type": "code",
   "execution_count": null,
   "metadata": {},
   "outputs": [],
   "source": []
  }
 ],
 "metadata": {
  "kernelspec": {
   "display_name": "Ruby 3.2.2",
   "language": "ruby",
   "name": "ruby"
  },
  "language_info": {
   "file_extension": ".rb",
   "mimetype": "application/x-ruby",
   "name": "ruby",
   "version": "3.2.2"
  }
 },
 "nbformat": 4,
 "nbformat_minor": 2
}
