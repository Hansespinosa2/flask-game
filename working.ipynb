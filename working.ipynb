{
 "cells": [
  {
   "cell_type": "code",
   "execution_count": 8,
   "metadata": {},
   "outputs": [
    {
     "data": {
      "text/plain": [
       "[#<Liquid:0x0000023d7bd63408 @color=\"red\">, #<Liquid:0x0000023d7bd63368 @color=\"blue\">, #<Liquid:0x0000023d7bd632f0 @color=\"yellow\">, #<Liquid:0x0000023d7bd63278 @color=\"green\">]"
      ]
     },
     "execution_count": 8,
     "metadata": {},
     "output_type": "execute_result"
    }
   ],
   "source": [
    "require_relative 'flasks.rb'\n",
    "require_relative 'liquids.rb'\n",
    "\n",
    "a_flask = Flask.new\n",
    "a_flask.add_liquid(Liquid.new('red'))\n",
    "a_flask.add_liquid(Liquid.new('blue'))\n",
    "a_flask.add_liquid(Liquid.new('yellow'))\n",
    "\n",
    "\n",
    "a_flask1 = Flask.new\n",
    "a_flask1.add_liquid(Liquid.new('red'))\n",
    "a_flask1.add_liquid(Liquid.new('blue'))\n",
    "a_flask1.add_liquid(Liquid.new('yellow'))\n",
    "\n",
    "\n",
    "\n"
   ]
  },
  {
   "cell_type": "code",
   "execution_count": 18,
   "metadata": {},
   "outputs": [
    {
     "data": {
      "text/plain": [
       "[\"red\", \"orange\", \"purple\", \"orange\", \"yellow\", \"purple\", \"yellow\", \"orange\", \"green\", \"red\", \"orange\", \"blue\", \"red\", \"red\", \"green\", \"yellow\"]"
      ]
     },
     "execution_count": 18,
     "metadata": {},
     "output_type": "execute_result"
    }
   ],
   "source": [
    "colors = ['red', 'blue','green', 'yellow', 'purple', 'orange']\n",
    "colors = (colors*4).shuffle \n",
    "colors.pop(4)\n",
    "colors.pop(4)\n",
    "colors"
   ]
  },
  {
   "cell_type": "code",
   "execution_count": 24,
   "metadata": {},
   "outputs": [
    {
     "data": {
      "text/plain": [
       "[2, 1]"
      ]
     },
     "execution_count": 24,
     "metadata": {},
     "output_type": "execute_result"
    }
   ],
   "source": [
    "[].concat([2,1])"
   ]
  },
  {
   "cell_type": "code",
   "execution_count": null,
   "metadata": {},
   "outputs": [],
   "source": []
  }
 ],
 "metadata": {
  "kernelspec": {
   "display_name": "Ruby 3.2.2",
   "language": "ruby",
   "name": "ruby"
  },
  "language_info": {
   "file_extension": ".rb",
   "mimetype": "application/x-ruby",
   "name": "ruby",
   "version": "3.2.2"
  }
 },
 "nbformat": 4,
 "nbformat_minor": 2
}
